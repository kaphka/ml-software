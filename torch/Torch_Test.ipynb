{
 "cells": [
  {
   "cell_type": "raw",
   "metadata": {
    "collapsed": true
   },
   "source": [
    "-- quads/rectangles\n",
    "x1=torch.randn(10)\n",
    "y1=torch.randn(10)\n",
    "plot = Plot():quad(x1,y1,x1+1,y1+1,'red',''):draw()\n",
    "-- histogram\n",
    "plot = Plot():histogram(torch.randn(10000)):draw()"
   ]
  },
  {
   "cell_type": "code",
   "execution_count": null,
   "metadata": {
    "collapsed": true
   },
   "outputs": [],
   "source": []
  }
 ],
 "metadata": {
  "kernelspec": {
   "display_name": "iTorch",
   "language": "lua",
   "name": "itorch"
  }
 },
 "nbformat": 4,
 "nbformat_minor": 0
}
