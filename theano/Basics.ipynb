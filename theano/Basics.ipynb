{
 "cells": [
  {
   "cell_type": "code",
   "execution_count": 3,
   "metadata": {
    "collapsed": false
   },
   "outputs": [],
   "source": [
    "import theano.tensor as T\n",
    "from theano import pp\n",
    "from theano import function\n",
    "from theano.printing import pydotprint"
   ]
  },
  {
   "cell_type": "code",
   "execution_count": 2,
   "metadata": {
    "collapsed": false
   },
   "outputs": [
    {
     "name": "stdout",
     "output_type": "stream",
     "text": [
      "((((Constant{0}[theta] * x) + TensorConstant{2}) - y) ** TensorConstant{2})\n"
     ]
    }
   ],
   "source": [
    "x = T.dvector('x')\n",
    "y = T.dvector('y')\n",
    "m = T.dscalar('m')\n",
    "theta = T.dvector('theta')\n",
    "h = theta[0] * x + 2\n",
    "J = T.pow(h - y,2)\n",
    "\n",
    "\n",
    "cost = function([x, y, theta], J)\n",
    "pydotprint(xor, 'img/xor.png')"
   ]
  },
  {
   "cell_type": "code",
   "execution_count": 33,
   "metadata": {
    "collapsed": false
   },
   "outputs": [
    {
     "data": {
      "text/plain": [
       "array([  4.,  16.,   9.,   9.])"
      ]
     },
     "execution_count": 33,
     "metadata": {},
     "output_type": "execute_result"
    }
   ],
   "source": [
    "x1 = [0, 1, 2, 3]\n",
    "y1 = [4, 7, 7, 8]\n",
    "theta1 = [1, 1]\n",
    "cost(x1,y1, theta1)"
   ]
  },
  {
   "cell_type": "code",
   "execution_count": null,
   "metadata": {
    "collapsed": true
   },
   "outputs": [],
   "source": []
  }
 ],
 "metadata": {
  "kernelspec": {
   "display_name": "Python 3",
   "language": "python",
   "name": "python3"
  },
  "language_info": {
   "codemirror_mode": {
    "name": "ipython",
    "version": 3
   },
   "file_extension": ".py",
   "mimetype": "text/x-python",
   "name": "python",
   "nbconvert_exporter": "python",
   "pygments_lexer": "ipython3",
   "version": "3.5.2"
  }
 },
 "nbformat": 4,
 "nbformat_minor": 0
}
