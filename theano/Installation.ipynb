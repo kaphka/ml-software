{
 "cells": [
  {
   "cell_type": "code",
   "execution_count": 2,
   "metadata": {
    "collapsed": false
   },
   "outputs": [
    {
     "name": "stdout",
     "output_type": "stream",
     "text": [
      "Requirement already satisfied (use --upgrade to upgrade): Theano in /Users/jschmolling/anaconda/envs/py35/lib/python3.5/site-packages\n",
      "Requirement already satisfied (use --upgrade to upgrade): six>=1.9.0 in /Users/jschmolling/anaconda/envs/py35/lib/python3.5/site-packages (from Theano)\n",
      "Requirement already satisfied (use --upgrade to upgrade): numpy>=1.7.1 in /Users/jschmolling/anaconda/envs/py35/lib/python3.5/site-packages (from Theano)\n",
      "Requirement already satisfied (use --upgrade to upgrade): scipy>=0.11 in /Users/jschmolling/anaconda/envs/py35/lib/python3.5/site-packages (from Theano)\n"
     ]
    }
   ],
   "source": [
    "!pip install Theano"
   ]
  },
  {
   "cell_type": "code",
   "execution_count": null,
   "metadata": {
    "collapsed": true
   },
   "outputs": [],
   "source": []
  }
 ],
 "metadata": {
  "kernelspec": {
   "display_name": "Python 3",
   "language": "python",
   "name": "python3"
  },
  "language_info": {
   "codemirror_mode": {
    "name": "ipython",
    "version": 3
   },
   "file_extension": ".py",
   "mimetype": "text/x-python",
   "name": "python",
   "nbconvert_exporter": "python",
   "pygments_lexer": "ipython3",
   "version": "3.5.1"
  }
 },
 "nbformat": 4,
 "nbformat_minor": 0
}
