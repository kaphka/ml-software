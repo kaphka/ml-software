{
 "cells": [
  {
   "cell_type": "code",
   "execution_count": 1,
   "metadata": {
    "collapsed": true
   },
   "outputs": [],
   "source": [
    "%matplotlib inline\n",
    "import matplotlib.pyplot as plt\n",
    "import numpy as np\n",
    "import pandas as pd\n",
    "import seaborn as sns\n",
    "from theano.printing import pydotprint\n",
    "import pickle"
   ]
  },
  {
   "cell_type": "markdown",
   "metadata": {},
   "source": [
    "## Linear Regression - Housing Data Set"
   ]
  },
  {
   "cell_type": "code",
   "execution_count": null,
   "metadata": {
    "collapsed": true
   },
   "outputs": [],
   "source": [
    "from theano import pp\n",
    "from theano import function\n",
    "import theano.tensor as T"
   ]
  },
  {
   "cell_type": "code",
   "execution_count": 101,
   "metadata": {
    "collapsed": false
   },
   "outputs": [],
   "source": [
    "# Trainings und Testdaten\n",
    "with open('data/housing.dframe', 'rb') as dframe:\n",
    "    housing = pickle.load(dframe)\n",
    "x_train = np.stack([np.ones((len(housing['TAX']))), housing['RM']],axis=1)\n",
    "y_train = np.array(housing['MEDV'])\n",
    "# plt.scatter(x_train[:,1], y_train ,marker='x')\n",
    "# housing.head()"
   ]
  },
  {
   "cell_type": "code",
   "execution_count": 102,
   "metadata": {
    "collapsed": false
   },
   "outputs": [],
   "source": [
    "# model setup \n",
    "x = T.dmatrix('x')\n",
    "y = T.dvector('y')\n",
    "theta = T.dvector('theta')\n",
    "h = T.dot(x,theta)\n",
    "J =  T.sum(T.pow(h - y,2)) / (2 * x.shape[0]) + T.sum(T.pow(theta,2))\n",
    "gJ = T.grad(J, theta)\n",
    "\n",
    "# print(pp(gJ))\n",
    "cost = function([x, y, theta], J)\n",
    "grad = function([x, y, theta], gJ)\n",
    "H = function([x,theta], h)\n",
    "\n",
    "f = function([x,theta], h)\n",
    "# cost(x_train, y_train, [0,0])"
   ]
  },
  {
   "cell_type": "code",
   "execution_count": 103,
   "metadata": {
    "collapsed": false
   },
   "outputs": [],
   "source": [
    "theta = [0, 0]\n",
    "rate = 0.01\n",
    "n_epoch = 100\n",
    "hist = np.zeros(n_epoch)\n",
    "for i in range(n_epoch):\n",
    "    theta = theta - rate * grad(x_train, y_train, theta)\n",
    "    hist[i] = cost(x_train,y_train, theta)"
   ]
  },
  {
   "cell_type": "code",
   "execution_count": 105,
   "metadata": {
    "collapsed": false
   },
   "outputs": [
    {
     "data": {
      "text/plain": [
       "<matplotlib.collections.PathCollection at 0x7ffab9772160>"
      ]
     },
     "execution_count": 105,
     "metadata": {},
     "output_type": "execute_result"
    },
    {
     "data": {
      "image/png": "[encoded data removed]",
      "text/plain": [
       "<matplotlib.figure.Figure at 0x7ffab98b1e48>"
      ]
     },
     "metadata": {},
     "output_type": "display_data"
    }
   ],
   "source": [
    "line = np.linspace(x_train[:,1].min(),x_train[:,1].max())\n",
    "y = f( np.stack([np.ones(len(line)),line],axis=1),theta)\n",
    "plt.subplot(121)\n",
    "plt.plot(hist)\n",
    "plt.subplot(122)\n",
    "plt.plot(line,y)\n",
    "plt.scatter(x_train[:,1], y_train,marker='x')"
   ]
  },
  {
   "cell_type": "markdown",
   "metadata": {},
   "source": [
    "## Binary Classification - Pima Indians Diabetes Data Set"
   ]
  },
  {
   "cell_type": "code",
   "execution_count": 106,
   "metadata": {
    "collapsed": true
   },
   "outputs": [],
   "source": [
    "with open('data/pima-indians-diabetes.tuple', 'rb') as xtuple:\n",
    "    x_train, y_train, x_test, y_test = pickle.load(xtuple)\n",
    "y_train = np.atleast_2d(y_train).transpose()"
   ]
  },
  {
   "cell_type": "code",
   "execution_count": 108,
   "metadata": {
    "collapsed": false
   },
   "outputs": [],
   "source": [
    "# model setup \n",
    "x = T.dmatrix('x')\n",
    "y = T.dmatrix('y')\n",
    "w1 = T.dmatrix('w1')\n",
    "h =  T.dot(x, w1)\n",
    "#TODO: Normalisierung\n",
    "J =  - T.sum(T.mul(y, T.log(h)) + T.mul((1 - y),T.log(1 - h)))\n",
    "gJ = T.grad(J, w1)\n",
    "\n",
    "cost = function([x, y, w1], J)\n",
    "grad = function([x, y, w1], gJ)\n",
    "H = function([x,w1], h)\n",
    "f = function([x,w1], h)\n"
   ]
  },
  {
   "cell_type": "code",
   "execution_count": 43,
   "metadata": {
    "collapsed": false
   },
   "outputs": [
    {
     "data": {
      "text/plain": [
       "1122.9199197096796"
      ]
     },
     "execution_count": 43,
     "metadata": {},
     "output_type": "execute_result"
    }
   ],
   "source": [
    "np.sum(np.multiply(np.log(H(x_train, np.ones((8,1)))),y_train))"
   ]
  },
  {
   "cell_type": "code",
   "execution_count": 46,
   "metadata": {
    "collapsed": false
   },
   "outputs": [
    {
     "data": {
      "text/plain": [
       "array(nan)"
      ]
     },
     "execution_count": 46,
     "metadata": {},
     "output_type": "execute_result"
    }
   ],
   "source": [
    "cost(x_train,y_train, np.ones((8,1)))"
   ]
  },
  {
   "cell_type": "code",
   "execution_count": 45,
   "metadata": {
    "collapsed": false
   },
   "outputs": [
    {
     "data": {
      "text/plain": [
       "Elemwise{sub,no_inplace}.0"
      ]
     },
     "execution_count": 45,
     "metadata": {},
     "output_type": "execute_result"
    }
   ],
   "source": [
    "theta - rate * grad(x_train, y_train, np.ones((8,1)))"
   ]
  },
  {
   "cell_type": "code",
   "execution_count": 109,
   "metadata": {
    "collapsed": false
   },
   "outputs": [],
   "source": [
    "theta = np.ones((8,1))\n",
    "rate = 0.01\n",
    "n_epoch = 100\n",
    "hist = np.zeros(n_epoch)\n",
    "for i in range(n_epoch):\n",
    "    hist[i] = cost(x_train, y_train, theta)\n",
    "    theta -= rate * grad(x_train, y_train, theta)"
   ]
  },
  {
   "cell_type": "code",
   "execution_count": 110,
   "metadata": {
    "collapsed": false
   },
   "outputs": [
    {
     "data": {
      "text/plain": [
       "[<matplotlib.lines.Line2D at 0x7ffab987d0b8>]"
      ]
     },
     "execution_count": 110,
     "metadata": {},
     "output_type": "execute_result"
    },
    {
     "data": {
      "image/png": "[encoded data removed]",
      "text/plain": [
       "<matplotlib.figure.Figure at 0x7ffaa26b5470>"
      ]
     },
     "metadata": {},
     "output_type": "display_data"
    }
   ],
   "source": [
    "#     print(theta)\n",
    "plt.plot(hist)"
   ]
  },
  {
   "cell_type": "code",
   "execution_count": null,
   "metadata": {
    "collapsed": true
   },
   "outputs": [],
   "source": []
  },
  {
   "cell_type": "code",
   "execution_count": 47,
   "metadata": {
    "collapsed": false
   },
   "outputs": [],
   "source": [
    "from keras.layers import Input, Dense\n",
    "from keras.models import Model, Sequential\n",
    "from keras import regularizers"
   ]
  },
  {
   "cell_type": "code",
   "execution_count": 96,
   "metadata": {
    "collapsed": false
   },
   "outputs": [],
   "source": [
    "# net_input = Input(input_dim=8)\n",
    "model = Sequential()\n",
    "model.add(Dense(32, batch_input_shape=(None, 8)))\n",
    "model.add(Dense(8, activation='tanh', name='p1'))\n",
    "model.add(Dense(3, activation='tanh', name='p2'))\n",
    "model.add(Dense(1, activation='tanh')) \n",
    "# model = Model(input=net_input, output=out)\n",
    "model.compile(optimizer='adadelta', loss='binary_crossentropy', metrics=['accuracy'])"
   ]
  },
  {
   "cell_type": "code",
   "execution_count": 97,
   "metadata": {
    "collapsed": false
   },
   "outputs": [],
   "source": [
    "history = model.fit(x_train, y_train,\n",
    "                verbose=0,\n",
    "                nb_epoch=2000,\n",
    "                batch_size=256,\n",
    "                validation_data=(x_test, y_test))"
   ]
  },
  {
   "cell_type": "code",
   "execution_count": 100,
   "metadata": {
    "collapsed": false,
    "scrolled": true
   },
   "outputs": [
    {
     "data": {
      "text/plain": [
       "[<matplotlib.lines.Line2D at 0x7ffab9775cc0>]"
      ]
     },
     "execution_count": 100,
     "metadata": {},
     "output_type": "execute_result"
    },
    {
     "data": {
      "image/png": "[encoded data removed]",
      "text/plain": [
       "<matplotlib.figure.Figure at 0x7ffab98a8be0>"
      ]
     },
     "metadata": {},
     "output_type": "display_data"
    }
   ],
   "source": [
    "plt.subplot(121)\n",
    "plt.plot(history.history['loss'])\n",
    "plt.subplot(122)\n",
    "plt.plot(history.history['acc'])"
   ]
  },
  {
   "cell_type": "markdown",
   "metadata": {},
   "source": [
    "## Image Classification - CIFAR-10 dataset"
   ]
  },
  {
   "cell_type": "code",
   "execution_count": null,
   "metadata": {
    "collapsed": true
   },
   "outputs": [],
   "source": []
  }
 ],
 "metadata": {
  "kernelspec": {
   "display_name": "Python 3",
   "language": "python",
   "name": "python3"
  },
  "language_info": {
   "codemirror_mode": {
    "name": "ipython",
    "version": 3
   },
   "file_extension": ".py",
   "mimetype": "text/x-python",
   "name": "python",
   "nbconvert_exporter": "python",
   "pygments_lexer": "ipython3",
   "version": "3.5.2"
  }
 },
 "nbformat": 4,
 "nbformat_minor": 0
}
