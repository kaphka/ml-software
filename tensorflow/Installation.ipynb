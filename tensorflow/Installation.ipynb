{
 "cells": [
  {
   "cell_type": "code",
   "execution_count": 4,
   "metadata": {
    "collapsed": false
   },
   "outputs": [
    {
     "name": "stdout",
     "output_type": "stream",
     "text": [
      "--2016-07-14 03:15:30--  https://storage.googleapis.com/tensorflow/linux/cpu/tensorflow-0.9.0-cp35-cp35m-linux_x86_64.whl\n",
      "Auflösen des Hostnamens »storage.googleapis.com (storage.googleapis.com)« … 216.58.213.48, 2a00:1450:4008:802::2010\n",
      "Verbindungsaufbau zu storage.googleapis.com (storage.googleapis.com)|216.58.213.48|:443 … verbunden.\n",
      "HTTP-Anforderung gesendet, auf Antwort wird gewartet … 200 OK\n",
      "Länge: 27429581 (26M) [application/octet-stream]\n",
      "Wird in »»data/tensorflow-0.9.0-cp35-cp35m-linux_x86_64.whl«« gespeichert.\n",
      "\n",
      "tensorflow-0.9.0-cp 100%[===================>]  26.16M  6.04MB/s    in 4.5s    \n",
      "\n",
      "2016-07-14 03:15:36 (5.86 MB/s) - »data/tensorflow-0.9.0-cp35-cp35m-linux_x86_64.whl« gespeichert [27429581/27429581]\n",
      "\n"
     ]
    }
   ],
   "source": [
    "# see https://github.com/tensorflow/tensorflow/issues/135\n",
    "# !mkdir /Developer/temp/\n",
    "!wget -P data/ https://storage.googleapis.com/tensorflow/linux/cpu/tensorflow-0.9.0-cp35-cp35m-linux_x86_64.whl"
   ]
  },
  {
   "cell_type": "code",
   "execution_count": 2,
   "metadata": {
    "collapsed": false
   },
   "outputs": [
    {
     "name": "stdout",
     "output_type": "stream",
     "text": [
      "data  Installation.ipynb  Linear Regression.ipynb\r\n"
     ]
    }
   ],
   "source": [
    "!ls"
   ]
  },
  {
   "cell_type": "code",
   "execution_count": 5,
   "metadata": {
    "collapsed": false
   },
   "outputs": [
    {
     "name": "stdout",
     "output_type": "stream",
     "text": [
      "Processing ./data/tensorflow-0.9.0-cp35-cp35m-linux_x86_64.whl\n",
      "Requirement already up-to-date: six>=1.10.0 in /home/jakob/miniconda2/envs/ml-software/lib/python3.5/site-packages (from tensorflow==0.9.0)\n",
      "Requirement already up-to-date: wheel>=0.26 in /home/jakob/miniconda2/envs/ml-software/lib/python3.5/site-packages (from tensorflow==0.9.0)\n",
      "Requirement already up-to-date: numpy>=1.8.2 in /home/jakob/miniconda2/envs/ml-software/lib/python3.5/site-packages (from tensorflow==0.9.0)\n",
      "Requirement already up-to-date: protobuf==3.0.0b2 in /home/jakob/miniconda2/envs/ml-software/lib/python3.5/site-packages (from tensorflow==0.9.0)\n",
      "Requirement already up-to-date: setuptools in /home/jakob/miniconda2/envs/ml-software/lib/python3.5/site-packages (from protobuf==3.0.0b2->tensorflow==0.9.0)\n",
      "Installing collected packages: tensorflow\n",
      "  Found existing installation: tensorflow 0.9.0rc0\n",
      "    Uninstalling tensorflow-0.9.0rc0:\n",
      "      Successfully uninstalled tensorflow-0.9.0rc0\n",
      "Successfully installed tensorflow-0.9.0\n"
     ]
    }
   ],
   "source": [
    "!pip install --upgrade data/tensorflow-0.9.0-cp35-cp35m-linux_x86_64.whl"
   ]
  },
  {
   "cell_type": "code",
   "execution_count": 7,
   "metadata": {
    "collapsed": false
   },
   "outputs": [],
   "source": [
    "# !python -m tensorflow.models.image.mnist.convolutional"
   ]
  },
  {
   "cell_type": "code",
   "execution_count": null,
   "metadata": {
    "collapsed": true
   },
   "outputs": [],
   "source": []
  }
 ],
 "metadata": {
  "kernelspec": {
   "display_name": "Python 3",
   "language": "python",
   "name": "python3"
  },
  "language_info": {
   "codemirror_mode": {
    "name": "ipython",
    "version": 3
   },
   "file_extension": ".py",
   "mimetype": "text/x-python",
   "name": "python",
   "nbconvert_exporter": "python",
   "pygments_lexer": "ipython3",
   "version": "3.5.2"
  }
 },
 "nbformat": 4,
 "nbformat_minor": 0
}
