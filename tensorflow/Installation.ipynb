{
 "cells": [
  {
   "cell_type": "code",
   "execution_count": 10,
   "metadata": {
    "collapsed": false
   },
   "outputs": [
    {
     "name": "stdout",
     "output_type": "stream",
     "text": [
      "--2016-05-11 22:18:57--  https://storage.googleapis.com/tensorflow/mac/tensorflow-0.8.0-py3-none-any.whl\n",
      "Resolving storage.googleapis.com... 216.58.213.16, 2a00:1450:4008:802::2010\n",
      "Connecting to storage.googleapis.com|216.58.213.16|:443... connected.\n",
      "HTTP request sent, awaiting response... 200 OK\n",
      "Length: 19320378 (18M) [application/octet-stream]\n",
      "Saving to: 'tensorflow-0.8.0-py3-none-any.whl.1'\n",
      "\n",
      "tensorflow-0.8.0-py 100%[===================>]  18.42M  5.14MB/s    in 3.7s    \n",
      "\n",
      "2016-05-11 22:19:01 (5.03 MB/s) - 'tensorflow-0.8.0-py3-none-any.whl.1' saved [19320378/19320378]\n",
      "\n",
      "/Developer/temp/tensorflow-0.8.0-py3-none-any.whl: Scheme missing.\n",
      "FINISHED --2016-05-11 22:19:01--\n",
      "Total wall clock time: 4.0s\n",
      "Downloaded: 1 files, 18M in 3.7s (5.03 MB/s)\n"
     ]
    }
   ],
   "source": [
    "# see https://github.com/tensorflow/tensorflow/issues/135\n",
    "# !mkdir /Developer/temp/\n",
    "!wget https://storage.googleapis.com/tensorflow/mac/tensorflow-0.8.0-py3-none-any.whl /Developer/temp/tensorflow-0.8.0-py3-none-any.whl"
   ]
  },
  {
   "cell_type": "code",
   "execution_count": 11,
   "metadata": {
    "collapsed": false
   },
   "outputs": [
    {
     "name": "stdout",
     "output_type": "stream",
     "text": [
      "Requirement already satisfied (use --upgrade to upgrade): tensorflow==0.8.0 from file:///Developer/temp/tensorflow-0.8.0-py3-none-any.whl in /Users/jschmolling/anaconda/envs/py35/lib/python3.5/site-packages\n",
      "Requirement already satisfied (use --upgrade to upgrade): protobuf==3.0.0b2 in /Users/jschmolling/anaconda/envs/py35/lib/python3.5/site-packages (from tensorflow==0.8.0)\n",
      "Requirement already satisfied (use --upgrade to upgrade): wheel>=0.26 in /Users/jschmolling/anaconda/envs/py35/lib/python3.5/site-packages (from tensorflow==0.8.0)\n",
      "Requirement already satisfied (use --upgrade to upgrade): numpy>=1.10.1 in /Users/jschmolling/anaconda/envs/py35/lib/python3.5/site-packages (from tensorflow==0.8.0)\n",
      "Requirement already satisfied (use --upgrade to upgrade): six>=1.10.0 in /Users/jschmolling/anaconda/envs/py35/lib/python3.5/site-packages/six-1.10.0-py3.5.egg (from tensorflow==0.8.0)\n",
      "Requirement already satisfied (use --upgrade to upgrade): setuptools in /Users/jschmolling/anaconda/envs/py35/lib/python3.5/site-packages (from protobuf==3.0.0b2->tensorflow==0.8.0)\n"
     ]
    }
   ],
   "source": [
    "!pip3 install /Developer/temp/tensorflow-0.8.0-py3-none-any.whl"
   ]
  },
  {
   "cell_type": "code",
   "execution_count": 1,
   "metadata": {
    "collapsed": false
   },
   "outputs": [
    {
     "name": "stdout",
     "output_type": "stream",
     "text": [
      "Extracting data/train-images-idx3-ubyte.gz\n",
      "Extracting data/train-labels-idx1-ubyte.gz\n",
      "Extracting data/t10k-images-idx3-ubyte.gz\n",
      "Extracting data/t10k-labels-idx1-ubyte.gz\n",
      "Initialized!\n",
      "Step 0 (epoch 0.00), 6.8 ms\n",
      "Minibatch loss: 12.054, learning rate: 0.010000\n",
      "Minibatch error: 90.6%\n",
      "Validation error: 84.6%\n",
      "^C\n",
      "Traceback (most recent call last):\n",
      "  File \"/Users/jschmolling/anaconda/envs/ml-software/lib/python3.5/runpy.py\", line 170, in _run_module_as_main\n",
      "    \"__main__\", mod_spec)\n",
      "  File \"/Users/jschmolling/anaconda/envs/ml-software/lib/python3.5/runpy.py\", line 85, in _run_code\n",
      "    exec(code, run_globals)\n",
      "  File \"/Users/jschmolling/anaconda/envs/ml-software/lib/python3.5/site-packages/tensorflow/models/image/mnist/convolutional.py\", line 316, in <module>\n",
      "    tf.app.run()\n",
      "  File \"/Users/jschmolling/anaconda/envs/ml-software/lib/python3.5/site-packages/tensorflow/python/platform/app.py\", line 30, in run\n",
      "    sys.exit(main(sys.argv))\n",
      "  File \"/Users/jschmolling/anaconda/envs/ml-software/lib/python3.5/site-packages/tensorflow/models/image/mnist/convolutional.py\", line 294, in main\n",
      "    feed_dict=feed_dict)\n",
      "  File \"/Users/jschmolling/anaconda/envs/ml-software/lib/python3.5/site-packages/tensorflow/python/client/session.py\", line 372, in run\n",
      "    run_metadata_ptr)\n",
      "  File \"/Users/jschmolling/anaconda/envs/ml-software/lib/python3.5/site-packages/tensorflow/python/client/session.py\", line 636, in _run\n",
      "    feed_dict_string, options, run_metadata)\n",
      "  File \"/Users/jschmolling/anaconda/envs/ml-software/lib/python3.5/site-packages/tensorflow/python/client/session.py\", line 708, in _do_run\n",
      "    target_list, options, run_metadata)\n",
      "  File \"/Users/jschmolling/anaconda/envs/ml-software/lib/python3.5/site-packages/tensorflow/python/client/session.py\", line 715, in _do_call\n",
      "    return fn(*args)\n",
      "  File \"/Users/jschmolling/anaconda/envs/ml-software/lib/python3.5/site-packages/tensorflow/python/client/session.py\", line 697, in _run_fn\n",
      "    status, run_metadata)\n",
      "KeyboardInterrupt\n"
     ]
    }
   ],
   "source": [
    "!python -m tensorflow.models.image.mnist.convolutional"
   ]
  },
  {
   "cell_type": "code",
   "execution_count": null,
   "metadata": {
    "collapsed": true
   },
   "outputs": [],
   "source": []
  }
 ],
 "metadata": {
  "kernelspec": {
   "display_name": "Python 3",
   "language": "python",
   "name": "python3"
  },
  "language_info": {
   "codemirror_mode": {
    "name": "ipython",
    "version": 3
   },
   "file_extension": ".py",
   "mimetype": "text/x-python",
   "name": "python",
   "nbconvert_exporter": "python",
   "pygments_lexer": "ipython3",
   "version": "3.5.1"
  }
 },
 "nbformat": 4,
 "nbformat_minor": 0
}
