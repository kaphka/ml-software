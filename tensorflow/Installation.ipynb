{
 "cells": [
  {
   "cell_type": "code",
   "execution_count": 9,
   "metadata": {
    "collapsed": false
   },
   "outputs": [
    {
     "name": "stdout",
     "output_type": "stream",
     "text": [
      "--2016-06-22 02:57:47--  https://storage.googleapis.com/tensorflow/linux/cpu/tensorflow-0.9.0rc0-cp35-cp35m-linux_x86_64.whl\n",
      "Resolving storage.googleapis.com (storage.googleapis.com)... 216.58.213.48, 2a00:1450:4008:800::2010\n",
      "Connecting to storage.googleapis.com (storage.googleapis.com)|216.58.213.48|:443... connected.\n",
      "HTTP request sent, awaiting response... 200 OK\n",
      "Length: 27427282 (26M) [application/octet-stream]\n",
      "Saving to: ‘tensorflow-0.9.0rc0-cp35-cp35m-linux_x86_64.whl’\n",
      "\n",
      "tensorflow-0.9.0rc0 100%[=====================>]  26.16M  5.13MB/s   in 5.2s   \n",
      "\n",
      "2016-06-22 02:57:52 (5.04 MB/s) - ‘tensorflow-0.9.0rc0-cp35-cp35m-linux_x86_64.whl’ saved [27427282/27427282]\n",
      "\n"
     ]
    }
   ],
   "source": [
    "# see https://github.com/tensorflow/tensorflow/issues/135\n",
    "# !mkdir /Developer/temp/\n",
    "!wget https://storage.googleapis.com/tensorflow/linux/cpu/tensorflow-0.9.0rc0-cp35-cp35m-linux_x86_64.whl"
   ]
  },
  {
   "cell_type": "code",
   "execution_count": 10,
   "metadata": {
    "collapsed": false
   },
   "outputs": [
    {
     "name": "stdout",
     "output_type": "stream",
     "text": [
      "Installation.ipynb\r\n",
      "Linear Regression.ipynb\r\n",
      "tensorflow-0.8.0-py3-none-any.whl\r\n",
      "tensorflow-0.8.0-py3-none-any.whl.1\r\n",
      "tensorflow-0.9.0rc0-cp35-cp35m-linux_x86_64.whl\r\n"
     ]
    }
   ],
   "source": [
    "!ls"
   ]
  },
  {
   "cell_type": "code",
   "execution_count": 11,
   "metadata": {
    "collapsed": false
   },
   "outputs": [
    {
     "name": "stdout",
     "output_type": "stream",
     "text": [
      "Processing ./tensorflow-0.9.0rc0-cp35-cp35m-linux_x86_64.whl\n",
      "Requirement already up-to-date: wheel>=0.26 in /home/jakob/anaconda/envs/py3k/lib/python3.5/site-packages (from tensorflow==0.9.0rc0)\n",
      "Requirement already up-to-date: protobuf==3.0.0b2 in /home/jakob/anaconda/envs/py3k/lib/python3.5/site-packages (from tensorflow==0.9.0rc0)\n",
      "Requirement already up-to-date: numpy>=1.8.2 in /home/jakob/anaconda/envs/py3k/lib/python3.5/site-packages (from tensorflow==0.9.0rc0)\n",
      "Requirement already up-to-date: six>=1.10.0 in /home/jakob/anaconda/envs/py3k/lib/python3.5/site-packages (from tensorflow==0.9.0rc0)\n",
      "Collecting setuptools (from protobuf==3.0.0b2->tensorflow==0.9.0rc0)\n",
      "  Downloading setuptools-23.0.0-py2.py3-none-any.whl (435kB)\n",
      "\u001b[K    100% |████████████████████████████████| 440kB 1.9MB/s \n",
      "\u001b[?25hInstalling collected packages: tensorflow, setuptools\n",
      "  Found existing installation: tensorflow 0.8.0\n",
      "    Uninstalling tensorflow-0.8.0:\n",
      "      Successfully uninstalled tensorflow-0.8.0\n",
      "  Found existing installation: setuptools 21.2.1\n",
      "\u001b[31mCannot remove entries from nonexistent file /home/jakob/anaconda/envs/py3k/lib/python3.5/site-packages/easy-install.pth\u001b[0m\n"
     ]
    }
   ],
   "source": [
    "!pip install --upgrade tensorflow-0.9.0rc0-cp35-cp35m-linux_x86_64.whl"
   ]
  },
  {
   "cell_type": "code",
   "execution_count": 12,
   "metadata": {
    "collapsed": false
   },
   "outputs": [
    {
     "name": "stdout",
     "output_type": "stream",
     "text": [
      "Successfully downloaded train-images-idx3-ubyte.gz 9912422 bytes.\n",
      "Successfully downloaded train-labels-idx1-ubyte.gz 28881 bytes.\n",
      "Successfully downloaded t10k-images-idx3-ubyte.gz 1648877 bytes.\n",
      "Successfully downloaded t10k-labels-idx1-ubyte.gz 4542 bytes.\n",
      "Extracting data/train-images-idx3-ubyte.gz\n",
      "Extracting data/train-labels-idx1-ubyte.gz\n",
      "Extracting data/t10k-images-idx3-ubyte.gz\n",
      "Extracting data/t10k-labels-idx1-ubyte.gz\n",
      "Initialized!\n",
      "Step 0 (epoch 0.00), 24.1 ms\n",
      "Minibatch loss: 12.054, learning rate: 0.010000\n",
      "Minibatch error: 90.6%\n",
      "Validation error: 84.6%\n",
      "^C\n",
      "Traceback (most recent call last):\n",
      "  File \"/home/jakob/anaconda/envs/py3k/lib/python3.5/runpy.py\", line 170, in _run_module_as_main\n",
      "    \"__main__\", mod_spec)\n",
      "  File \"/home/jakob/anaconda/envs/py3k/lib/python3.5/runpy.py\", line 85, in _run_code\n",
      "    exec(code, run_globals)\n",
      "  File \"/home/jakob/anaconda/envs/py3k/lib/python3.5/site-packages/tensorflow/models/image/mnist/convolutional.py\", line 316, in <module>\n",
      "    tf.app.run()\n",
      "  File \"/home/jakob/anaconda/envs/py3k/lib/python3.5/site-packages/tensorflow/python/platform/app.py\", line 30, in run\n",
      "    sys.exit(main(sys.argv))\n",
      "  File \"/home/jakob/anaconda/envs/py3k/lib/python3.5/site-packages/tensorflow/models/image/mnist/convolutional.py\", line 294, in main\n",
      "    feed_dict=feed_dict)\n",
      "  File \"/home/jakob/anaconda/envs/py3k/lib/python3.5/site-packages/tensorflow/python/client/session.py\", line 372, in run\n",
      "    run_metadata_ptr)\n",
      "  File \"/home/jakob/anaconda/envs/py3k/lib/python3.5/site-packages/tensorflow/python/client/session.py\", line 636, in _run\n",
      "    feed_dict_string, options, run_metadata)\n",
      "  File \"/home/jakob/anaconda/envs/py3k/lib/python3.5/site-packages/tensorflow/python/client/session.py\", line 708, in _do_run\n",
      "    target_list, options, run_metadata)\n",
      "  File \"/home/jakob/anaconda/envs/py3k/lib/python3.5/site-packages/tensorflow/python/client/session.py\", line 715, in _do_call\n",
      "    return fn(*args)\n",
      "  File \"/home/jakob/anaconda/envs/py3k/lib/python3.5/site-packages/tensorflow/python/client/session.py\", line 697, in _run_fn\n",
      "    status, run_metadata)\n",
      "KeyboardInterrupt\n"
     ]
    }
   ],
   "source": [
    "!python -m tensorflow.models.image.mnist.convolutional"
   ]
  },
  {
   "cell_type": "code",
   "execution_count": null,
   "metadata": {
    "collapsed": true
   },
   "outputs": [],
   "source": []
  }
 ],
 "metadata": {
  "kernelspec": {
   "display_name": "Python 3",
   "language": "python",
   "name": "python3"
  },
  "language_info": {
   "codemirror_mode": {
    "name": "ipython",
    "version": 3
   },
   "file_extension": ".py",
   "mimetype": "text/x-python",
   "name": "python",
   "nbconvert_exporter": "python",
   "pygments_lexer": "ipython3",
   "version": "3.5.1"
  }
 },
 "nbformat": 4,
 "nbformat_minor": 0
}
